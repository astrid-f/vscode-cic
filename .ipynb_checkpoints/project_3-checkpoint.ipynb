{
 "cells": [
  {
   "cell_type": "markdown",
   "metadata": {},
   "source": [
    "# Hello world! \n",
    "\n",
    "I am currently working for the local government in my home country, which is in the process of relocating its capital city to a previously forested area. The government has justified this move by emphasizing the potential for urbanization to reduce regional economic disparities and promote balanced development across the nation. This has sparked my curiosity about the broader relationship between urbanization and regional economic growth, as I aim to understand whether such a strategy can truly achieve the intended outcomes. \n",
    "\n",
    "Let's see if we can make use of this project to at least roughly see if there is a positive or negative correlation on that! \n",
    "\n",
    "**Dataset(s) to be used:** [link]\n",
    "\n",
    "**Analysis question:** Does urbanization reduce regional economic disparities in developing countries, and can relocating a capital city help promote balanced economic growth?\n",
    "\n",
    "**Columns that will (likely) be used:**\n",
    "  - Urban population (% of total population)\n",
    "  - Regional GDP per capita\n",
    "  - Urban and rural poverty rates\n",
    "    \n",
    "**Columns to be used to merge/join them:**\n",
    "- [Dataset 1] Country and Year\n",
    "- [Dataset 2] Country and Year\n",
    "\n",
    "**Hypothesis**: Urbanization helps to reduce regional economic disparities by redistributing economic activity to secondary cities and surrounding areas. Relocating a capital city can potentially amplify this effect if accompanied by infrastructure development and inclusive urban planning."
   ]
  },
  {
   "cell_type": "markdown",
   "metadata": {},
   "source": [
    "As a starter, we will read the first dataset: Annual Urban Population from the United Nations Population Division.\n"
   ]
  },
  {
   "cell_type": "code",
   "execution_count": 16,
   "metadata": {},
   "outputs": [
    {
     "ename": "SyntaxError",
     "evalue": "invalid syntax (1392799185.py, line 2)",
     "output_type": "error",
     "traceback": [
      "\u001b[0;36m  Cell \u001b[0;32mIn[16], line 2\u001b[0;36m\u001b[0m\n\u001b[0;31m    pip install xlrd\u001b[0m\n\u001b[0m        ^\u001b[0m\n\u001b[0;31mSyntaxError\u001b[0m\u001b[0;31m:\u001b[0m invalid syntax\n"
     ]
    }
   ],
   "source": [
    "import pandas as pd\n",
    "\n",
    "file_url = \"https://population.un.org/wup/Download/Files/WUP2018-F18-Total_Population_Annual.xls\"\n",
    "\n",
    "df = pd.read_excel(file_url)\n",
    "#, skiprows=16)  # Skip the first 16 rows to get to the data\n",
    "\n",
    "# Preview the dataset\n",
    "#print(\"Dataset Overview:\")\n",
    "print(df.head())  # Show the first 5 rows\n",
    "\n",
    "# Clean column names (if needed)\n",
    "#df.columns = df.columns.str.strip()\n",
    "\n",
    "# Check the columns\n",
    "#print(\"\\nColumns in the Dataset:\")\n",
    "#print(df.columns)\n",
    "\n",
    "# Filter the dataset for specific countries\n",
    "#countries_of_interest = ['Brazil', 'Malaysia', 'South Korea', 'Kazakhstan', 'Australia', 'Pakistan', 'Nigeria', 'Egypt']\n",
    "#filtered_df = df[df['Region, subregion, country or area *'].isin(countries_of_interest)]\n",
    "\n",
    "#print(\"\\nFiltered Data for Selected Countries:\")\n",
    "#print(filtered_df)\n",
    "\n",
    "# Save the filtered data to a new file\n",
    "#filtered_df.to_csv(\"filtered_countries_population.csv\", index=False)\n",
    "#print(\"\\nFiltered data saved to 'filtered_countries_population.csv'\")\n"
   ]
  },
  {
   "cell_type": "code",
   "execution_count": null,
   "metadata": {},
   "outputs": [],
   "source": []
  },
  {
   "cell_type": "markdown",
   "metadata": {},
   "source": [
    "Create notebook for project 3"
   ]
  }
 ],
 "metadata": {
  "kernelspec": {
   "display_name": "Python 3 (ipykernel)",
   "language": "python",
   "name": "python3"
  },
  "language_info": {
   "codemirror_mode": {
    "name": "ipython",
    "version": 3
   },
   "file_extension": ".py",
   "mimetype": "text/x-python",
   "name": "python",
   "nbconvert_exporter": "python",
   "pygments_lexer": "ipython3",
   "version": "3.12.2"
  }
 },
 "nbformat": 4,
 "nbformat_minor": 4
}
